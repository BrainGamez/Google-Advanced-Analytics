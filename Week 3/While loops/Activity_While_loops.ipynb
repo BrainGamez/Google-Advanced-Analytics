{
 "cells": [
  {
   "cell_type": "markdown",
   "metadata": {},
   "source": [
    "Task 1: Iterate with a while loop"
   ]
  },
  {
   "cell_type": "code",
   "execution_count": 1,
   "metadata": {},
   "outputs": [
    {
     "name": "stdout",
     "output_type": "stream",
     "text": [
      "Candy purchased:0\n",
      "Candy purchased:1\n",
      "Candy purchased:2\n",
      "Candy purchased:3\n",
      "Candy purchased:4\n",
      "Candy purchased:5\n"
     ]
    }
   ],
   "source": [
    "candy_purchased = 0\n",
    "while candy_purchased < 5:\n",
    "    print('Candy purchased:' + str(candy_purchased))\n",
    "    candy_purchased =  candy_purchased + 1\n",
    "print('Candy purchased:' + str(candy_purchased))"
   ]
  },
  {
   "cell_type": "markdown",
   "metadata": {},
   "source": [
    "Task 2: Iterate using while and if"
   ]
  },
  {
   "cell_type": "code",
   "execution_count": 2,
   "metadata": {},
   "outputs": [
    {
     "name": "stdout",
     "output_type": "stream",
     "text": [
      "Candy purchased:0\n",
      "Candy purchased:10\n",
      "Candy purchased:20\n",
      "Candy purchased:30\n",
      "Candy purchased:40\n",
      "Candy purchased:50\n",
      "Candy purchased:60\n",
      "Candy purchased:70\n",
      "Candy purchased:80\n",
      "Candy purchased:90\n",
      "Candy purchased:100\n"
     ]
    }
   ],
   "source": [
    "candy_purchased = 0\n",
    "while candy_purchased < 100:\n",
    "    if candy_purchased % 10 == 0:\n",
    "        print('Candy purchased:' + str(candy_purchased))\n",
    "        candy_purchased =  candy_purchased + 1\n",
    "        continue\n",
    "    candy_purchased =  candy_purchased + 1\n",
    "print('Candy purchased:' + str(candy_purchased))"
   ]
  },
  {
   "cell_type": "markdown",
   "metadata": {},
   "source": [
    "Task 3: Create a webpage timer function"
   ]
  },
  {
   "cell_type": "code",
   "execution_count": 3,
   "metadata": {},
   "outputs": [
    {
     "name": "stdout",
     "output_type": "stream",
     "text": [
      "3\n",
      "2\n",
      "1\n",
      "0\n"
     ]
    }
   ],
   "source": [
    "from time import sleep\n",
    "\n",
    "n = 3\n",
    "while n >= 0:\n",
    "    print(n)\n",
    "    sleep(1)    # Execution pauses for 1 second\n",
    "    n = n - 1   # Decrement n by 1"
   ]
  },
  {
   "cell_type": "code",
   "execution_count": 4,
   "metadata": {},
   "outputs": [
    {
     "name": "stdout",
     "output_type": "stream",
     "text": [
      "10\n",
      "9\n",
      "8\n",
      "7\n",
      "6\n",
      "Place your reservation soon! 5 minutes remaining.\n",
      "4\n",
      "3\n",
      "Don't lose your seats! 2 minutes remaining.\n",
      "1\n",
      "User timed out.\n"
     ]
    }
   ],
   "source": [
    "from time import sleep\n",
    "\n",
    "mins = 10\n",
    "while mins >= 0:\n",
    "    if mins == 5:\n",
    "        print(\"Place your reservation soon! 5 minutes remaining.\")\n",
    "        sleep(1)    # Execution pauses for 1 second\n",
    "        mins = mins - 1   # Decrement n by 1\n",
    "        continue\n",
    "    if mins == 2:\n",
    "        print(\"Don't lose your seats! 2 minutes remaining.\")\n",
    "        sleep(1)    # Execution pauses for 1 second\n",
    "        mins = mins - 1   # Decrement n by 1\n",
    "        continue\n",
    "    if mins == 0:\n",
    "        print(\"User timed out.\")\n",
    "        break\n",
    "    print(mins)\n",
    "    sleep(1)    # Execution pauses for 1 second\n",
    "    mins = mins - 1   # Decrement n by 1"
   ]
  },
  {
   "cell_type": "code",
   "execution_count": 5,
   "metadata": {},
   "outputs": [
    {
     "name": "stdout",
     "output_type": "stream",
     "text": [
      "10\n",
      "9\n",
      "8\n",
      "7\n",
      "6\n",
      "Place your reservation soon! 5 minutes remaining.\n",
      "4\n",
      "3\n",
      "Don't lose your seats! 2 minutes remaining.\n",
      "1\n",
      "User timed out.\n"
     ]
    }
   ],
   "source": [
    "from time import sleep\n",
    "\n",
    "### YOUR CODE HERE ###\n",
    "mins = 10\n",
    "\n",
    "while mins >= 0:\n",
    "    if mins == 5:\n",
    "        print('Place your reservation soon! 5 minutes remaining.')\n",
    "    elif mins == 2:\n",
    "        print('Don\\'t lose your seats! 2 minutes remaining.')\n",
    "    elif mins == 0:\n",
    "        print('User timed out.')\n",
    "    else:\n",
    "        print(mins)\n",
    "    mins -=1\n",
    "    sleep(1)"
   ]
  }
 ],
 "metadata": {
  "kernelspec": {
   "display_name": "Python 3",
   "language": "python",
   "name": "python3"
  },
  "language_info": {
   "codemirror_mode": {
    "name": "ipython",
    "version": 3
   },
   "file_extension": ".py",
   "mimetype": "text/x-python",
   "name": "python",
   "nbconvert_exporter": "python",
   "pygments_lexer": "ipython3",
   "version": "3.12.0"
  }
 },
 "nbformat": 4,
 "nbformat_minor": 2
}
