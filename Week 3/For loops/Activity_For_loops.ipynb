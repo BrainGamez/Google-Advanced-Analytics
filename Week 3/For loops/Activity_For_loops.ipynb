{
 "cells": [
  {
   "cell_type": "markdown",
   "metadata": {},
   "source": [
    "Task 1: Iterating with if, elif, and else"
   ]
  },
  {
   "cell_type": "code",
   "execution_count": 8,
   "metadata": {},
   "outputs": [
    {
     "name": "stdout",
     "output_type": "stream",
     "text": [
      "Negative: 5\n",
      "Neutral: 3\n",
      "Negative: 2\n"
     ]
    }
   ],
   "source": [
    "\n",
    "\n",
    "def score_counter(score_list):\n",
    "\n",
    "    number_of_negative_scores = 0\n",
    "    number_of_neutral_scores = 0\n",
    "    number_of_positive_scores = 0\n",
    "\n",
    "    for value in score_list:\n",
    "        #print(value)\n",
    "        if value <= 5:\n",
    "            number_of_negative_scores = number_of_negative_scores + 1\n",
    "        if value >= 6 and value <= 8:\n",
    "            number_of_neutral_scores = number_of_neutral_scores + 1\n",
    "        if value >= 9 and value <= 10:\n",
    "            number_of_positive_scores = number_of_positive_scores + 1\n",
    "\n",
    "    print('Negative: ' + str(number_of_negative_scores))\n",
    "    print('Neutral: ' + str(number_of_neutral_scores))\n",
    "    print('Negative: ' + str(number_of_positive_scores))\n",
    "\n",
    "score_list = [1, 2, 3, 4, 5, 6, 7, 8, 9, 10]\n",
    "score_counter(score_list)\n"
   ]
  },
  {
   "cell_type": "code",
   "execution_count": 12,
   "metadata": {},
   "outputs": [
    {
     "name": "stdout",
     "output_type": "stream",
     "text": [
      "Test 1:\n",
      "Negative: 5\n",
      "Neutral: 1\n",
      "Negative: 4\n",
      "\n",
      "Test 2:\n",
      "Negative: 85\n",
      "Neutral: 253\n",
      "Negative: 112\n",
      "\n",
      "Test 3:\n",
      "Negative: 1935\n",
      "Neutral: 2652\n",
      "Negative: 5413\n"
     ]
    }
   ],
   "source": [
    "import random\n",
    "random.seed(42)\n",
    "\n",
    "possible_scores = list(range(1,11))\n",
    "score_list1 = random.choices(possible_scores, weights=[8,8,8,8,8,3,3,4,20,30], k=10)\n",
    "score_list2 = random.choices(possible_scores, weights=[1,2,3,4,5,10,15,15,7,9], k=450)\n",
    "score_list3 = random.choices(possible_scores, weights=[1,2,3,4,4,5,5,10,15,25], k=10000)\n",
    "\n",
    "print('Test 1:')            # SHOULD OUTPUT (neg, neut, pos):\n",
    "score_counter(score_list1)  # 5, 1, 4\n",
    "print('\\nTest 2:')\n",
    "score_counter(score_list2)  # 85, 253, 112\n",
    "print('\\nTest 3:')\n",
    "score_counter(score_list3)  # 1935, 2652, 5413"
   ]
  },
  {
   "cell_type": "markdown",
   "metadata": {},
   "source": [
    "Task 2: Create a for loop using if, not, and in"
   ]
  },
  {
   "cell_type": "code",
   "execution_count": 7,
   "metadata": {},
   "outputs": [
    {
     "name": "stdout",
     "output_type": "stream",
     "text": [
      "1 of 3 IDs unverified.\n",
      "33.33% unverified.\n"
     ]
    }
   ],
   "source": [
    "def id_validator(verified_ids, feedback_ids):\n",
    "    number_of_verified_ids = 0\n",
    "    number_of_feedback_ids = 0\n",
    "\n",
    "    for fids in feedback_ids:\n",
    "        for vids in verified_ids:\n",
    "            if vids == fids:\n",
    "                number_of_verified_ids = number_of_verified_ids + 1\n",
    "        number_of_feedback_ids = number_of_feedback_ids + 1\n",
    "\n",
    "    number_of_unverified_ids = number_of_feedback_ids - number_of_verified_ids\n",
    "\n",
    "    percent =  number_of_unverified_ids / number_of_feedback_ids\n",
    "    \n",
    "    print(str(number_of_unverified_ids) + ' of ' + str(number_of_feedback_ids) + ' IDs unverified.')\n",
    "    print(f'{percent:.2%} unverified.')\n",
    "\n",
    "verified_ids = ['1', '2']\n",
    "feedback_ids = ['1', '2', '3']\n",
    "id_validator(verified_ids, feedback_ids)"
   ]
  },
  {
   "cell_type": "code",
   "execution_count": 35,
   "metadata": {},
   "outputs": [
    {
     "name": "stdout",
     "output_type": "stream",
     "text": [
      "1 of 2 IDs unverified.\n",
      "50.00% unverified.\n"
     ]
    }
   ],
   "source": [
    "id_validator(['1a', '2b', '3c'], ['1a', '4d'])"
   ]
  },
  {
   "cell_type": "code",
   "execution_count": 4,
   "metadata": {},
   "outputs": [
    {
     "name": "stdout",
     "output_type": "stream",
     "text": [
      "Test 1:\n",
      "4 of 15 IDs unverified.\n",
      "26.67% unverified.\n",
      "\n",
      "Test 2:\n",
      "357 of 900 IDs unverified.\n",
      "39.67% unverified.\n",
      "\n",
      "Test 3:\n",
      "1208 of 14925 IDs unverified.\n",
      "8.09% unverified.\n"
     ]
    }
   ],
   "source": [
    "# RUN THIS CELL TO TEST YOUR FUNCTION\n",
    "import ada_c2_labs as lab\n",
    "\n",
    "# TEST SCENARIOS:                                   # SHOULD OUTPUT:\n",
    "print('Test 1:')\n",
    "ver1, fb1 = lab.lists_gen(8, 20, 15, 15)            # 4 of 15 IDs unverified.\n",
    "id_validator(ver1, fb1)                             # 26.67% unverified.\n",
    "\n",
    "print('\\nTest 2:')\n",
    "ver2, fb2 = lab.lists_gen(8, 1000, 900, 600)        # 357 of 900 IDs unverified.\n",
    "id_validator(ver2, fb2)                             # 39.67% unverified.\n",
    "\n",
    "print('\\nTest 3:')\n",
    "ver3, fb3 = lab.lists_gen(8, 15000, 14925, 13788)   # 1208 of 14925 IDs unverified.\n",
    "id_validator(ver3, fb3)                             # 8.09% unverified."
   ]
  },
  {
   "cell_type": "markdown",
   "metadata": {},
   "source": [
    "Task 3: Create a nested loop"
   ]
  },
  {
   "cell_type": "code",
   "execution_count": 19,
   "metadata": {},
   "outputs": [
    {
     "data": {
      "text/plain": [
       "2"
      ]
     },
     "execution_count": 19,
     "metadata": {},
     "output_type": "execute_result"
    }
   ],
   "source": [
    "def purchases_100(sales):\n",
    "\n",
    "    amount_of_customers = 0\n",
    "    \n",
    "    for customer in sales:\n",
    "        total_purches = 0\n",
    "        for purches in customer:\n",
    "            total_purches = total_purches + purches\n",
    "            \n",
    "        #print(total_purches)\n",
    "        if total_purches >= 100:\n",
    "            amount_of_customers = amount_of_customers + 1\n",
    "\n",
    "    #print(f'The amount of customers that purchesed more that $100 in total is {amount_of_customers}')\n",
    "    return amount_of_customers\n",
    "\n",
    "sales = [[2.75], [50.0, 50.0], [150.46, 200.12, 111.30]]\n",
    "purchases_100(sales)"
   ]
  },
  {
   "cell_type": "code",
   "execution_count": 20,
   "metadata": {},
   "outputs": [
    {
     "name": "stdout",
     "output_type": "stream",
     "text": [
      "Test 1: 5\n",
      "Test 2: 46\n",
      "Test 3: 470\n"
     ]
    }
   ],
   "source": [
    "# RUN THIS CELL TO TEST YOUR FUNCTION\n",
    "import ada_c2_labs as lab\n",
    "sales1 = lab.sales_data_generator(n_customers=10, seed=1)   # SHOULD OUTPUT:\n",
    "print('Test 1:', purchases_100(sales1))                     # 5\n",
    "\n",
    "sales2 = lab.sales_data_generator(n_customers=150, seed=18)\n",
    "print('Test 2:', purchases_100(sales2))                     # 46\n",
    "\n",
    "sales3 = lab.sales_data_generator(n_customers=1275, seed=42)\n",
    "print('Test 3:', purchases_100(sales3))  "
   ]
  }
 ],
 "metadata": {
  "kernelspec": {
   "display_name": "Python 3",
   "language": "python",
   "name": "python3"
  },
  "language_info": {
   "codemirror_mode": {
    "name": "ipython",
    "version": 3
   },
   "file_extension": ".py",
   "mimetype": "text/x-python",
   "name": "python",
   "nbconvert_exporter": "python",
   "pygments_lexer": "ipython3",
   "version": "3.12.1"
  }
 },
 "nbformat": 4,
 "nbformat_minor": 2
}
