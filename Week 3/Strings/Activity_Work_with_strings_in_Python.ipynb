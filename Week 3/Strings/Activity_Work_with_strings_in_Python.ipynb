{
 "cells": [
  {
   "cell_type": "markdown",
   "metadata": {},
   "source": [
    "Task 1: Check and change data types"
   ]
  },
  {
   "cell_type": "code",
   "execution_count": 1,
   "metadata": {},
   "outputs": [
    {
     "name": "stdout",
     "output_type": "stream",
     "text": [
      "<class 'int'>\n",
      "<class 'str'>\n"
     ]
    }
   ],
   "source": [
    "store_id = 1101\n",
    "\n",
    "print(type(store_id))\n",
    "\n",
    "store_id = str(store_id)\n",
    "\n",
    "print(type(store_id))"
   ]
  },
  {
   "cell_type": "markdown",
   "metadata": {},
   "source": [
    "Task 2: String concatenation"
   ]
  },
  {
   "cell_type": "code",
   "execution_count": 19,
   "metadata": {},
   "outputs": [
    {
     "name": "stdout",
     "output_type": "stream",
     "text": [
      "02806\n",
      "\n",
      "02806\n",
      "\n",
      "Invalid ZIP Code.\n",
      "\n",
      "Invalid ZIP Code.\n"
     ]
    }
   ],
   "source": [
    "def zip_checker(zipcode):\n",
    "    if len(zipcode) == 5 and zipcode[:2] != '00':\n",
    "        return str(zipcode)\n",
    "    elif len(zipcode) == 4 and zipcode[0] != '0':\n",
    "       return '0' + zipcode\n",
    "    elif len(zipcode) == 4 and zipcode[0] == '0':\n",
    "       return 'Invalid ZIP Code.'\n",
    "    else:\n",
    "        return 'Invalid ZIP Code.'\n",
    "    \n",
    "print(zip_checker('02806'))\n",
    "print()\n",
    "print(zip_checker('2806'))\n",
    "print()\n",
    "print(zip_checker('0280'))\n",
    "print()\n",
    "print(zip_checker('00280'))\n",
    "\n"
   ]
  },
  {
   "cell_type": "code",
   "execution_count": 20,
   "metadata": {},
   "outputs": [
    {
     "name": "stdout",
     "output_type": "stream",
     "text": [
      "02806\n",
      "02806\n",
      "Invalid ZIP Code.\n",
      "Invalid ZIP Code.\n"
     ]
    }
   ],
   "source": [
    "print(zip_checker('02806'))     # Should return 02806.\n",
    "print(zip_checker('2806'))      # Should return 02806.\n",
    "print(zip_checker('0280'))      # Should return 'Invalid ZIP Code.'\n",
    "print(zip_checker('00280'))     # Should return 'Invalid ZIP Code.'"
   ]
  },
  {
   "cell_type": "markdown",
   "metadata": {},
   "source": [
    "Task 3: Extract the store ID"
   ]
  },
  {
   "cell_type": "code",
   "execution_count": 27,
   "metadata": {},
   "outputs": [
    {
     "name": "stdout",
     "output_type": "stream",
     "text": [
      "r626c36\n"
     ]
    }
   ],
   "source": [
    "url = \"https://exampleURL1.com/r626c36\"\n",
    "#id = url[-7:]\n",
    "#print(id)\n",
    "\n",
    "id = url.split('/')[-1]\n",
    "print(id)"
   ]
  },
  {
   "cell_type": "markdown",
   "metadata": {},
   "source": [
    "Task 4: String extraction function"
   ]
  },
  {
   "cell_type": "code",
   "execution_count": 31,
   "metadata": {},
   "outputs": [
    {
     "name": "stdout",
     "output_type": "stream",
     "text": [
      "http is an invalid protocol.\n",
      "r626c3 is an invalid store ID.\n",
      "ftps is an invalid protocol.\n",
      "r626c3 is an invalid store ID.\n",
      "r626c36\n"
     ]
    }
   ],
   "source": [
    "def url_checker(url):\n",
    "    protocol = url.split(':')[0]\n",
    "    store_id = url.split('/')[-1]\n",
    "\n",
    "    if protocol != 'https' and len(store_id) != 7:\n",
    "        print(f'{protocol} is an invalid protocol.')\n",
    "        print(f'{store_id} is an invalid store ID.')\n",
    "    elif protocol != 'https':\n",
    "        print(f'{protocol} is an invalid protocol.')\n",
    "    elif len(store_id) != 7:\n",
    "        print(f'{store_id} is an invalid store ID.')\n",
    "    else:\n",
    "        print(store_id) \n",
    "\n",
    "url_checker('http://exampleURL1.com/r626c3')\n",
    "url_checker('ftps://exampleURL1.com/r626c36')\n",
    "url_checker('https://exampleURL1.com/r626c3')\n",
    "url_checker('https://exampleURL1.com/r626c36')"
   ]
  },
  {
   "cell_type": "code",
   "execution_count": 32,
   "metadata": {},
   "outputs": [
    {
     "name": "stdout",
     "output_type": "stream",
     "text": [
      "http is an invalid protocol.\n",
      "r626c3 is an invalid store ID.\n",
      "\n",
      "ftps is an invalid protocol.\n",
      "\n",
      "r626c3 is an invalid store ID.\n",
      "\n",
      "r626c36\n"
     ]
    }
   ],
   "source": [
    "# RUN THIS CELL TO TEST YOUR FUCTION            # Should return:\n",
    "url_checker('http://exampleURL1.com/r626c3')    # 'http: is an invalid protocol.'\n",
    "print()                                         # 'r626c3 is an invalid store ID.'\n",
    "\n",
    "url_checker('ftps://exampleURL1.com/r626c36')   # 'ftps: is an invalid protocol.\n",
    "print()\n",
    "url_checker('https://exampleURL1.com/r626c3')   # 'r626c3 is an invalid store ID.'\n",
    "print()\n",
    "url_checker('https://exampleURL1.com/r626c36')  # 'r626c36'"
   ]
  }
 ],
 "metadata": {
  "kernelspec": {
   "display_name": "Python 3",
   "language": "python",
   "name": "python3"
  },
  "language_info": {
   "codemirror_mode": {
    "name": "ipython",
    "version": 3
   },
   "file_extension": ".py",
   "mimetype": "text/x-python",
   "name": "python",
   "nbconvert_exporter": "python",
   "pygments_lexer": "ipython3",
   "version": "3.12.1"
  }
 },
 "nbformat": 4,
 "nbformat_minor": 2
}
